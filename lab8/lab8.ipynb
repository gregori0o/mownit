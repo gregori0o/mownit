{
 "cells": [
  {
   "cell_type": "markdown",
   "metadata": {},
   "source": [
    "# Laboratorium 8 - SVD - wyszukiwarka"
   ]
  },
  {
   "cell_type": "code",
   "execution_count": 1,
   "metadata": {},
   "outputs": [],
   "source": [
    "import os\n",
    "import numpy as np\n",
    "from nltk.tokenize import word_tokenize as tokenizer\n",
    "from nltk.corpus import stopwords\n",
    "from nltk.stem.snowball import SnowballStemmer\n",
    "stemmer = SnowballStemmer(\"english\")\n",
    "from string import punctuation\n",
    "from scipy.sparse.linalg import svds as svd\n",
    "from scipy.sparse import lil_matrix"
   ]
  },
  {
   "cell_type": "markdown",
   "metadata": {},
   "source": [
    "Na początek opiszę jedną z większych trudności projektu. Z racji dużej liczby artykułów potrzeba dużej pamięci RAM. W moim laptopie znajduje się 16GB tejże pamięci. Wykonując projekt często zdarzało mi się wykorzystywać pamięć ze SWAPu. Po testach udało się zmieścić w RAMie redukując słownik do 60 tysięcy słów oraz wykorzystując typ `np.float32` do reprezentowania danych w macierzy po wymnożeniu SVD."
   ]
  },
  {
   "cell_type": "markdown",
   "metadata": {},
   "source": [
    "## Wczytanie dokumentów"
   ]
  },
  {
   "cell_type": "markdown",
   "metadata": {},
   "source": [
    "Funkcja wczytuje plik tekstowy 'corpus.txt, w którym zawarte są artykuły pochodzące z angielskiej wikipedii. Artykułów jest 50441. Są one rozdzielane do plików, po jednym pliku na artykuł i przechowywane w folderze 'sites'. Krok ten został wykonany w celu ułatwienia korzystania i otwierania konkretnych artykułów. Plik z artykułami pochodzi ze strony: https://github.com/LGDoor/Dump-of-Simple-English-Wiki."
   ]
  },
  {
   "cell_type": "code",
   "execution_count": 2,
   "metadata": {},
   "outputs": [],
   "source": [
    "def read_wikipedia (filepath = \"corpus.txt\", directory = \"sites\"):\n",
    "    if not os.path.exists(directory):\n",
    "        os.mkdir(directory)\n",
    "    f = open (filepath, 'r')\n",
    "    text = f.read()\n",
    "    f.close()\n",
    "    text = text.split(\"\\n\\n\")\n",
    "    for i, site in enumerate(text):\n",
    "        fp = directory + \"/\" + \"site\" + str(i) + \".txt\"\n",
    "        f = open (fp, 'w')\n",
    "        f.write(site)\n",
    "        f.close()"
   ]
  },
  {
   "cell_type": "markdown",
   "metadata": {},
   "source": [
    "## Utworzenie słownika"
   ]
  },
  {
   "cell_type": "markdown",
   "metadata": {},
   "source": [
    "Na początek przyjąłem słownik jako zbiór wszystkich słów występujących we wszystkich artykułach z wyłączeniem słów ze stop listy i słów zawierających znaki interpunkcyjne. Jako stop listę przyjąłem zbiór pochodzący z biblioteki `nltk` (gotowa stop lista dla języka angielskiego). Kolejnym ważnym aspektem jest wykorzystanie tokenizera z tej samej biblioteki, który wykorzystuje do wyodrębnienia słów w tekście. Tutaj jak i za każdym razem w projekcie korzystam z tekstu po zamianie wielkich liter na małe. Słownik zbudowany ze wszystkich słów dobrze sprawdzał się dopóki korzystam z macierzy rzadkich. Po policzeniu SVD i redukcji szumu macierz jest zbyt duża i nie mieści się w RAMie. Z tego powodu zdecydowałem zmniejszyć słownik do 60000 słów. Rozpocząłem poprzez wybieranie 60 tysięcy słów najmniej, najbardziej licznych lub ze środka. Jednakże z powodu wielu bardzo krótkich artykułów metoda ta się nie sprawdzała. Ostatecznie słownik buduję ze słów pochodzących z tytułów artykułów, daje to nieco ponad 38 tysięcy. Dzięki temu zabiegowi każdy artykuł ma swojego reprezentanta w słowniku. Słownik dopełniam do 60 tysięcy najliczniejszymi z pozostałych słów. Robię to z faktu wykorzystania stoplisty więc pozbyłem się słów nie niosących znaczenia i potrzeby rozbudowania wektorów z artykułów. Słownik zapisuję do pliku 'dict.txt', aby móc z niego korzystać wielokrotnie i w aplikacji. Ostatnią poprawą było wykorzystanie funkcji sprowadzającej słowo do rdzenia - `nltk.stem.snowball.SnowballStemmer` dla języka angielskiego. Korzystam z niej przy tworzeniu słownika oraz przy tworzeniu wektora `bag_of_words`. Ta poprawka zwiększa znacząco wartość słów w słowniku oraz możliwości wyszukiwarki."
   ]
  },
  {
   "cell_type": "code",
   "execution_count": 3,
   "metadata": {},
   "outputs": [],
   "source": [
    "def make_dictionary (stop_words, directory = \"sites\"):\n",
    "    #size = 60000\n",
    "    l = list(os.listdir(directory))\n",
    "    counter = {}\n",
    "    for file in l:\n",
    "        filepath = directory + \"/\" + file\n",
    "        f = open (filepath, 'r')\n",
    "        text = f.read().lower()\n",
    "        f.close()\n",
    "        words = tokenizer(text)\n",
    "        for word in words:\n",
    "            if any([l in punctuation for l in word]):\n",
    "                continue\n",
    "            word = stemmer.stem(word)\n",
    "            if word in stop_words:\n",
    "                continue\n",
    "            \n",
    "            counter[word] = counter.get(word, 0) + 1\n",
    "    arr = list (counter.items())\n",
    "    #arr.sort(reverse=True, key=lambda x : x[1])\n",
    "    #arr = arr[:size]\n",
    "    #arr = arr[(-1)*size:]\n",
    "    #k = (len(arr)-size)//2\n",
    "    #arr = arr[k:k+size]\n",
    "    dictionary = {}\n",
    "    for i, k in enumerate(arr):\n",
    "        word = k[0]\n",
    "        dictionary[word] = i\n",
    "    return dictionary"
   ]
  },
  {
   "cell_type": "code",
   "execution_count": 4,
   "metadata": {},
   "outputs": [],
   "source": [
    "def dictionary_from_titles (stop_words, directory = \"sites\"):\n",
    "    size = 60000\n",
    "    l = list(os.listdir(directory))\n",
    "    counter = {}\n",
    "    for file in l:\n",
    "        filepath = directory + \"/\" + file\n",
    "        f = open (filepath, 'r')\n",
    "        text = f.read().lower()\n",
    "        f.close()\n",
    "        text = text.split('\\n')[0]\n",
    "        words = tokenizer(text)\n",
    "        for word in words:\n",
    "            if any([l in punctuation for l in word]):\n",
    "                continue\n",
    "            word = stemmer.stem(word)\n",
    "            if word in stop_words:\n",
    "                continue\n",
    "            counter[word] = counter.get(word, 0) + 1\n",
    "    arr = list (counter.items())\n",
    "    size -= len (arr)\n",
    "    \n",
    "    counter2 = {}\n",
    "    for file in l:\n",
    "        filepath = directory + \"/\" + file\n",
    "        f = open (filepath, 'r')\n",
    "        text = f.read().lower()\n",
    "        f.close()\n",
    "        words = tokenizer(text)\n",
    "        for word in words:\n",
    "            if any([l in punctuation for l in word]):\n",
    "                continue\n",
    "            word = stemmer.stem(word)\n",
    "            if word in stop_words:\n",
    "                continue\n",
    "            if word in counter:\n",
    "                continue\n",
    "            counter2[word] = counter2.get(word, 0) + 1\n",
    "    arr2 = list (counter2.items())\n",
    "    \n",
    "    arr2.sort(reverse=True, key=lambda x : x[1])\n",
    "    #arr2 = arr2[:size]\n",
    "    arr2 = arr2[(-1)*size:]\n",
    "    #k = (len(arr2)-size)//2\n",
    "    #arr2 = arr2[k:k+size]\n",
    "    \n",
    "    arr.extend(arr2)\n",
    "    \n",
    "    dictionary = {}\n",
    "    for i, k in enumerate(arr):\n",
    "        word = k[0]\n",
    "        dictionary[word] = i\n",
    "    return dictionary"
   ]
  },
  {
   "cell_type": "code",
   "execution_count": 5,
   "metadata": {},
   "outputs": [],
   "source": [
    "def save_dictionary (dictionary, filepath='dict.txt'):\n",
    "    f = open (filepath, 'w')\n",
    "    f.write (str(dictionary))\n",
    "    f.close()"
   ]
  },
  {
   "cell_type": "markdown",
   "metadata": {},
   "source": [
    "## Obliczenie wektora z artykułu"
   ]
  },
  {
   "cell_type": "markdown",
   "metadata": {},
   "source": [
    "Każdy artykuł reprezentuje jako wektor `bag_of_word`. Jest to wektor zawierający liczność kolejnych słów ze słownika w danym artykule. Z racji, że wektory te są rzadkie przechowuje je jako słownik. Funkcja `normalise` ma za zadanie unormować wektor, aby jego długość wynosiła 1. Funkcja `normalise_vectors` normuje listę wektorów. Funkcja `IDF_func` przekształca wektory poprzez przemnożenie ich przez współczynnik IDF. IDF dla danego słowa ze słownika to logarytm z ilorazu liczby dokumentów z liczbą dokumentów z danym słowem. Celem tej operacji jest redukcja znaczenia często występujących słów."
   ]
  },
  {
   "cell_type": "code",
   "execution_count": 6,
   "metadata": {},
   "outputs": [],
   "source": [
    "def make_bag_of_word (dictionary, text, normal=False):\n",
    "    words = tokenizer(text)\n",
    "    vector = {}\n",
    "    for word in words:\n",
    "        word = stemmer.stem(word)\n",
    "        idx = dictionary.get(word, -1)\n",
    "        if idx == -1:\n",
    "            continue\n",
    "        vector[idx] = vector.get(idx, 0) + 1\n",
    "    if normal:\n",
    "        vector = normalise(vector)\n",
    "    return vector"
   ]
  },
  {
   "cell_type": "code",
   "execution_count": 7,
   "metadata": {},
   "outputs": [],
   "source": [
    "def normalise (vector):\n",
    "    s = 0\n",
    "    for v in vector.values():\n",
    "        s += v**2\n",
    "    s = np.sqrt(s)\n",
    "    if s == 0:\n",
    "        return vector\n",
    "    for key in vector.keys():\n",
    "        t = vector[key]\n",
    "        vector[key] = t / s\n",
    "    return vector"
   ]
  },
  {
   "cell_type": "code",
   "execution_count": 8,
   "metadata": {},
   "outputs": [],
   "source": [
    "def normalise_vectors (vectors):\n",
    "    for i in range (len (vectors)):\n",
    "        vectors[i] = normalise(vectors[i])\n",
    "    return vectors"
   ]
  },
  {
   "cell_type": "code",
   "execution_count": 9,
   "metadata": {},
   "outputs": [],
   "source": [
    "def IDF_func (vectors, n):\n",
    "    new_vec = []\n",
    "    N = len (vectors)\n",
    "    IDF = np.zeros(n)\n",
    "    for vector in vectors:\n",
    "        new_vec.append(vector.copy())\n",
    "        for key in vector.keys():\n",
    "            IDF[key] += 1\n",
    "    IDF = np.log(N / IDF)\n",
    "    for i in range (N):\n",
    "        for key in new_vec[i].keys():\n",
    "            new_vec[i][key] *= IDF [key]\n",
    "    return new_vec"
   ]
  },
  {
   "cell_type": "markdown",
   "metadata": {},
   "source": [
    "## Redukcja szumu"
   ]
  },
  {
   "cell_type": "markdown",
   "metadata": {},
   "source": [
    "Funkcja wykorzystująca SVD do redukcji szumu. Polega na policzeniu SVD z k wartościami własnymi. Dzięki temu po wymnożeniu uzyskujemy przybliżenie macierzy wejściowej ze zredukowanym szumem. Pozwala to na wyszukiwanie artykułów na podstawie słów związanych znaczeniowo z artykułem, a nie bezpośrednio w nich występujących. Ważną cechą jest zastosowanie liczb zmiennoprzecinkowych pojedynczej precyzji co znacząco poprawia wydajność (celem zmieszczenie się w RAMie)."
   ]
  },
  {
   "cell_type": "code",
   "execution_count": 10,
   "metadata": {},
   "outputs": [],
   "source": [
    "def reduce_noise (vectors, k, size):\n",
    "    l = len (vectors)\n",
    "    matrix = lil_matrix((l, size), dtype=np.float64)\n",
    "    for i, vector in enumerate(vectors):\n",
    "        for j, val in vector.items():\n",
    "            matrix[i, j] = val\n",
    "    u, s, vh = svd(matrix, k=k)\n",
    "    del (matrix)\n",
    "    u = u.astype(np.float32)\n",
    "    s = s.astype(np.float32)\n",
    "    vh = vh.astype(np.float32)\n",
    "    new_matrix = u @ np.diag(s) @ vh\n",
    "    return new_matrix"
   ]
  },
  {
   "cell_type": "markdown",
   "metadata": {},
   "source": [
    "## Przygotowywanie plików z danymi"
   ]
  },
  {
   "cell_type": "markdown",
   "metadata": {},
   "source": [
    "Aby umożliwić korzystanie z aplikacji funkcja `prepare_sites_raw` czyta artykuły i dla każdego z nich na podstawie słownika tworzy plik z wektorami `bag_of_words`. Jedna linia w pliku do jeden artykuł w postaci [numer id]\\\\$[ścieżka do pliku]\\\\$[wektor]. Jako że tytuł artykułu jest ważny to słowa z niego pochodzące mają wagę 5."
   ]
  },
  {
   "cell_type": "code",
   "execution_count": 11,
   "metadata": {},
   "outputs": [],
   "source": [
    "def prepare_sites_raw (dictionary, directory = \"sites\", filepath = \"raw_data.txt\"):\n",
    "    l = list(os.listdir(directory))\n",
    "    arr = []\n",
    "    s = open (filepath, 'w')\n",
    "    for i, file in enumerate(l):\n",
    "        fp = directory + \"/\" + file\n",
    "        f = open (fp, 'r')\n",
    "        text = f.read().lower()\n",
    "        f.close()\n",
    "        title = text.split('\\n')[0]\n",
    "        vector = make_bag_of_word (dictionary, title + (\" \" + text)*4)\n",
    "        arr.append(vector)\n",
    "        line = str(i) + \"$\" + fp + \"$\" + str(vector) + \"\\n\"\n",
    "        s.write (line)\n",
    "    s.close()"
   ]
  },
  {
   "cell_type": "markdown",
   "metadata": {},
   "source": [
    "## Odczyt danych"
   ]
  },
  {
   "cell_type": "markdown",
   "metadata": {},
   "source": [
    "Następujące funkcje przetwarzają wcześniej przygotowane pliki i odczytują słownik słów oraz macierze wektorów. Wykorzystuje je do odczytu danych do testowania. Występują one również w aplikacji `browser.py`."
   ]
  },
  {
   "cell_type": "code",
   "execution_count": 12,
   "metadata": {},
   "outputs": [],
   "source": [
    "def read_dictionary (filepath='dict.txt'):\n",
    "    f = open (filepath, 'r')\n",
    "    text = f.read()\n",
    "    f.close()\n",
    "    text = text[1:][:-1]\n",
    "    text = text.split(', ')\n",
    "    dictionary = {}\n",
    "    for item in text:\n",
    "        key, val = item.split(': ')\n",
    "        if \"'\" in key:\n",
    "            key = key.split(\"'\")[1]\n",
    "        dictionary[key] = int(val)\n",
    "    return dictionary"
   ]
  },
  {
   "cell_type": "code",
   "execution_count": 13,
   "metadata": {},
   "outputs": [],
   "source": [
    "def read_data (filepath = \"data.txt\"):\n",
    "    f = open (filepath, 'r')\n",
    "    text = f.read()\n",
    "    f.close()\n",
    "    text = text.split('\\n')\n",
    "    arr = []\n",
    "    filepaths = []\n",
    "    for line in text:\n",
    "        vector = {}\n",
    "        if len(line) < 3:\n",
    "            continue\n",
    "        string = line.split('$')[2][1:][:-1]\n",
    "        if len(string) < 3:\n",
    "            continue\n",
    "        if ',' in string:\n",
    "            string = string.split(', ')\n",
    "        elif ' ' in string and ':' not in string:\n",
    "            string = string.split()\n",
    "        else:\n",
    "            string = [string]\n",
    "        for i, item in enumerate(string):\n",
    "            if ':' in item:\n",
    "                key, val = item.split(': ')\n",
    "            else:\n",
    "                key, val = i, item\n",
    "            vector[int(key)] = float (val)\n",
    "        filepaths.append (line.split('$')[1])\n",
    "        arr.append(vector)\n",
    "    return arr, filepaths"
   ]
  },
  {
   "cell_type": "markdown",
   "metadata": {},
   "source": [
    "## Wyszukiwanie artykułów"
   ]
  },
  {
   "cell_type": "markdown",
   "metadata": {},
   "source": [
    "Wyszukiwanie artykułów polega na korzystaniu z wcześniej policzonej listy wektorów. Zapytanie przekształcamy do wektora `bag_of_words` i liczymy odległość cosinusową takiego wektora z każdym z listy i zwracamy k wektorów znajdujących się najbliżej wektora z zapytania. Funkcja `search` przetwarza rezultat do listy tytułów artykułów. W aplikacji `browser.py` korzystamy z analogicznej funkcji `make_search`, jednakże rezultat odpowiednio interpretujemy aby stworzyć odpowiednie GUI."
   ]
  },
  {
   "cell_type": "code",
   "execution_count": 14,
   "metadata": {},
   "outputs": [],
   "source": [
    "def cosinus_dis (v, u):\n",
    "    val_v = 0\n",
    "    val_u = 0\n",
    "    for i in v.values():\n",
    "        val_v += i**2\n",
    "    for i in u.values():\n",
    "        val_u += i**2\n",
    "    val_v = np.sqrt(val_v)\n",
    "    val_u = np.sqrt(val_u)\n",
    "    l = 0\n",
    "    for key, i in v.items():\n",
    "        l += (i * u.get(key, 0))\n",
    "    return l / (val_v * val_u)\n",
    "\n",
    "def cosinus_dis_normal (v, u):\n",
    "    l = 0\n",
    "    if isinstance (u, dict):\n",
    "        for key, i in v.items():\n",
    "            l += (i * u.get(key, 0))\n",
    "    else: #jeśli u jest tablicą to znaczy że nie jest unormowany bo pochodzi z wymnożenia macierzy SVD\n",
    "        for key, i in v.items():\n",
    "            l += (i * u[key])\n",
    "        l /= np.sqrt(np.sum(u**2))\n",
    "    return l\n",
    "\n",
    "def make_search (question, dictionary, vectors, k, normal=True):\n",
    "    question = question.lower()\n",
    "    vector = make_bag_of_word (dictionary, question, normal)\n",
    "    #for key in vector.keys():\n",
    "    #    vector[key] = 1\n",
    "    result = np.zeros((len(vectors), 2))\n",
    "    result[:,0] = np.arange(len(vectors))\n",
    "    if normal:\n",
    "        for i, v in enumerate(vectors):\n",
    "            result[i, 1] = cosinus_dis_normal (vector, v)\n",
    "    else:\n",
    "        for i, v in enumerate(vectors):\n",
    "            result[i, 1] = cosinus_dis (vector, v)\n",
    "    result = sorted(result, key=lambda x : x[1], reverse=True)\n",
    "    return np.array(result)[:k,:]"
   ]
  },
  {
   "cell_type": "code",
   "execution_count": 15,
   "metadata": {},
   "outputs": [],
   "source": [
    "def search (question, k, dictionary, vectors, filepaths, normal=True):\n",
    "    result = make_search (question, dictionary, vectors, k, normal)\n",
    "    for idx, val in result:\n",
    "        f = open (filepaths[int(idx)], 'r')\n",
    "        text = f.read()\n",
    "        f.close()\n",
    "        title = text.split('\\n')[0]\n",
    "        print (title, \"<--\", val)"
   ]
  },
  {
   "cell_type": "markdown",
   "metadata": {},
   "source": [
    "## Przygotowanie danych"
   ]
  },
  {
   "cell_type": "markdown",
   "metadata": {},
   "source": [
    "Przetworzenie tekstu (utworzenie plików z artykułami)."
   ]
  },
  {
   "cell_type": "code",
   "execution_count": 16,
   "metadata": {},
   "outputs": [],
   "source": [
    "read_wikipedia ()"
   ]
  },
  {
   "cell_type": "markdown",
   "metadata": {},
   "source": [
    "Stworzenie słownika zawężonego i zapisanie go do pliku."
   ]
  },
  {
   "cell_type": "code",
   "execution_count": 17,
   "metadata": {},
   "outputs": [],
   "source": [
    "swords = stopwords.words('english')\n",
    "dictionary = dictionary_from_titles (swords)\n",
    "save_dictionary (dictionary)"
   ]
  },
  {
   "cell_type": "markdown",
   "metadata": {},
   "source": [
    "Stworzenie pełnego słownika dla testów bez SVD."
   ]
  },
  {
   "cell_type": "code",
   "execution_count": 18,
   "metadata": {},
   "outputs": [],
   "source": [
    "dictionary_full = make_dictionary (swords)\n",
    "save_dictionary (dictionary_full, filepath='dict_full.txt')"
   ]
  },
  {
   "cell_type": "markdown",
   "metadata": {},
   "source": [
    "Zapisanie wersji surowej wektorów bez przetwarzania. Oraz odczytanie ich do testów."
   ]
  },
  {
   "cell_type": "code",
   "execution_count": 19,
   "metadata": {},
   "outputs": [],
   "source": [
    "prepare_sites_raw(dictionary_full, filepath=\"data_full.txt\")\n",
    "raw_vectors_full, filepaths_full = read_data(\"data_full.txt\")\n",
    "\n",
    "prepare_sites_raw(dictionary)\n",
    "raw_vectors, filepaths = read_data(\"raw_data.txt\")"
   ]
  },
  {
   "cell_type": "markdown",
   "metadata": {},
   "source": [
    "## Testy"
   ]
  },
  {
   "cell_type": "markdown",
   "metadata": {},
   "source": [
    "Pracuję na wektorach znormalizowanych aby łatwiej obliczać odległość cosinusową. Najpierw sprawdzam wpływ IDF na rezultaty wyszukiwania."
   ]
  },
  {
   "cell_type": "code",
   "execution_count": 20,
   "metadata": {},
   "outputs": [],
   "source": [
    "IDF_vectors = IDF_func (raw_vectors, len(dictionary))\n",
    "IDF_vectors = normalise_vectors (IDF_vectors)\n",
    "raw_vectors = normalise_vectors (raw_vectors)"
   ]
  },
  {
   "cell_type": "code",
   "execution_count": 21,
   "metadata": {},
   "outputs": [],
   "source": [
    "IDF_vectors_full = IDF_func (raw_vectors_full, len(dictionary_full))\n",
    "IDF_vectors_full = normalise_vectors (IDF_vectors_full)\n",
    "raw_vectors_full = normalise_vectors (raw_vectors_full)"
   ]
  },
  {
   "cell_type": "code",
   "execution_count": 22,
   "metadata": {
    "scrolled": false
   },
   "outputs": [
    {
     "name": "stdout",
     "output_type": "stream",
     "text": [
      "Search in raw vectors and small dict\n",
      "Anime <-- 0.5625163481348935\n",
      "Animal <-- 0.543152069737458\n",
      "Animalia <-- 0.5378862657886253\n",
      "Animal husbandry <-- 0.5182541467222385\n",
      "Stud (animal) <-- 0.5163819737376347\n",
      "Animal Planet <-- 0.5060243137049899\n",
      "Animation <-- 0.49763182018168867\n",
      "By-product <-- 0.497468338163091\n",
      "Animal rights <-- 0.47375471337167674\n",
      "Herbivore <-- 0.47269490742284415\n",
      "\n",
      "\n",
      "Search in IDF vectors and small dict\n",
      "Anime <-- 0.5192108150173426\n",
      "Animal <-- 0.5187437457847217\n",
      "List of rivers of Africa <-- 0.4853378107662085\n",
      "East Africa <-- 0.4845097571388642\n",
      "Animation <-- 0.46719894493597874\n",
      "Animal rights <-- 0.4659005423701243\n",
      "Animal Planet <-- 0.45350049418170996\n",
      "Animalia <-- 0.44818575136608985\n",
      "Animator <-- 0.4222756842568148\n",
      "Haré+Guu <-- 0.39228744848208696\n",
      "\n",
      "\n",
      "Search in raw vectors and full dict\n",
      "Anime <-- 0.5481434102258566\n",
      "Animal <-- 0.5374621900271535\n",
      "Animalia <-- 0.5254401968342873\n",
      "Animal husbandry <-- 0.5107155029071931\n",
      "Animal Planet <-- 0.5060243137049899\n",
      "Stud (animal) <-- 0.5046555939204582\n",
      "Animation <-- 0.4908830778185265\n",
      "Herbivore <-- 0.4677543649186344\n",
      "By-product <-- 0.4635863249727653\n",
      "Animal rights <-- 0.46029089093762826\n",
      "\n",
      "\n",
      "Search in IDF vectors and full dict\n",
      "Animal <-- 0.5038662133975186\n",
      "Anime <-- 0.5020377553718893\n",
      "List of rivers of Africa <-- 0.4720196220504848\n",
      "Animal Planet <-- 0.45350049418170996\n",
      "Animation <-- 0.4534705590878548\n",
      "Animal rights <-- 0.4442988179300228\n",
      "Animalia <-- 0.42976008685197825\n",
      "East Africa <-- 0.40840550378502566\n",
      "Animator <-- 0.4011670038277975\n",
      "Haré+Guu <-- 0.39228744848208696\n"
     ]
    }
   ],
   "source": [
    "k = 10\n",
    "question = \"animals in Africa\"\n",
    "print (\"Search in raw vectors and small dict\")\n",
    "search (question, k, dictionary, raw_vectors, filepaths)\n",
    "print ()\n",
    "print ()\n",
    "print (\"Search in IDF vectors and small dict\")\n",
    "search (question, k, dictionary, IDF_vectors, filepaths)\n",
    "print ()\n",
    "print ()\n",
    "print (\"Search in raw vectors and full dict\")\n",
    "search (question, k, dictionary_full, raw_vectors_full, filepaths_full)\n",
    "print ()\n",
    "print ()\n",
    "print (\"Search in IDF vectors and full dict\")\n",
    "search (question, k, dictionary_full, IDF_vectors_full, filepaths_full)"
   ]
  },
  {
   "cell_type": "markdown",
   "metadata": {},
   "source": [
    "Możemy zauważyć brak większych różnic pomiędzy słownikami. Widzimy natomiast zmniejszenie znaczenia słowa \"animals\" w wyszukiwaniu dla wektorów IDF. Dzięki temu pojawia się więcej wyszukiwań związanych z Afryką. Jest to lepsze zachowanie dla wyszukiwarki gdzie na starcie powinniśmy zakładać równość znaczeń słów."
   ]
  },
  {
   "cell_type": "code",
   "execution_count": 23,
   "metadata": {},
   "outputs": [
    {
     "name": "stdout",
     "output_type": "stream",
     "text": [
      "Search in raw vectors and small dict\n",
      "Ocean <-- 0.6571130567729285\n",
      "World Ocean <-- 0.6102629825251079\n",
      "Indian Ocean <-- 0.5847603530197577\n",
      "Arctic Ocean <-- 0.5438220618042232\n",
      "Southern Ocean <-- 0.5069447770645309\n",
      "Trench <-- 0.48380990291711146\n",
      "Mariana Trench <-- 0.4354138398151981\n",
      "Pacific Ocean <-- 0.42475580635209803\n",
      "Trench warfare <-- 0.4247545726906457\n",
      "Underwater <-- 0.4230758365300037\n",
      "\n",
      "\n",
      "Search in IDF vectors and small dict\n",
      "Ocean <-- 0.6571686387916761\n",
      "World Ocean <-- 0.6262005470349706\n",
      "Indian Ocean <-- 0.6061534387746168\n",
      "Trench <-- 0.5963156125723296\n",
      "Trench warfare <-- 0.4993440891622341\n",
      "Southern Ocean <-- 0.4979454730656588\n",
      "Mariana Trench <-- 0.48648151172707693\n",
      "Arctic Ocean <-- 0.48453744156807993\n",
      "Trench coat <-- 0.45916944289430867\n",
      "Underwater <-- 0.43358037597410637\n",
      "\n",
      "\n",
      "Search in raw vectors and full dict\n",
      "Ocean <-- 0.586931844083855\n",
      "Indian Ocean <-- 0.5206576008754675\n",
      "World Ocean <-- 0.49200128656460335\n",
      "Arctic Ocean <-- 0.4716763468069104\n",
      "Mariana Trench <-- 0.451723789645382\n",
      "Underwater <-- 0.4241853697426488\n",
      "Southern Ocean <-- 0.399294388486477\n",
      "Trench <-- 0.38655567174253425\n",
      "Trench warfare <-- 0.33567081660362075\n",
      "Pacific Ocean <-- 0.32140485588853634\n",
      "\n",
      "\n",
      "Search in IDF vectors and full dict\n",
      "Ocean <-- 0.6272634757357277\n",
      "Indian Ocean <-- 0.5664235216895842\n",
      "World Ocean <-- 0.5038867964055948\n",
      "Mariana Trench <-- 0.4936381428240027\n",
      "Trench <-- 0.4816230204331504\n",
      "Underwater <-- 0.4785202773688556\n",
      "Arctic Ocean <-- 0.4396716290054814\n",
      "Trench warfare <-- 0.39522907909290184\n",
      "Southern Ocean <-- 0.3884237542029853\n",
      "Trench coat <-- 0.34725309214584166\n"
     ]
    }
   ],
   "source": [
    "k = 10\n",
    "question = \"the deepest oceanic trench\"\n",
    "print (\"Search in raw vectors and small dict\")\n",
    "search (question, k, dictionary, raw_vectors, filepaths)\n",
    "print ()\n",
    "print ()\n",
    "print (\"Search in IDF vectors and small dict\")\n",
    "search (question, k, dictionary, IDF_vectors, filepaths)\n",
    "print ()\n",
    "print ()\n",
    "print (\"Search in raw vectors and full dict\")\n",
    "search (question, k, dictionary_full, raw_vectors_full, filepaths_full)\n",
    "print ()\n",
    "print ()\n",
    "print (\"Search in IDF vectors and full dict\")\n",
    "search (question, k, dictionary_full, IDF_vectors_full, filepaths_full)"
   ]
  },
  {
   "cell_type": "markdown",
   "metadata": {},
   "source": [
    "Możemy zauważyć, że dla pełnego słownika otrzymujemy oczekiwany wynik wyżej. Nie widać różnic pomiędzy zastosowaniem i brakiem IDF."
   ]
  },
  {
   "cell_type": "code",
   "execution_count": 24,
   "metadata": {
    "scrolled": false
   },
   "outputs": [
    {
     "name": "stdout",
     "output_type": "stream",
     "text": [
      "Search in raw vectors and small dict\n",
      "Gold (color) <-- 0.5311700841299224\n",
      "Gold Medal of Military Valor <-- 0.43247244877866897\n",
      "Medal <-- 0.4262696442881346\n",
      "Tag team <-- 0.4200750003622725\n",
      "Michael Phelps <-- 0.4145717729794517\n",
      "T-Mobile Team <-- 0.4125997510473544\n",
      "Gold rush <-- 0.4054520363879667\n",
      "Silver Medal of Military Valor <-- 0.40046692808292794\n",
      "Continental circuits <-- 0.3913677005139188\n",
      "Bronze Medal of Military Valor <-- 0.39119740944113757\n",
      "\n",
      "\n",
      "Search in IDF vectors and small dict\n",
      "Gold (color) <-- 0.5542574908412131\n",
      "Medal <-- 0.49167048342580644\n",
      "Gold Medal of Military Valor <-- 0.3936137649688654\n",
      "Gold <-- 0.3859978119092428\n",
      "Gold rush <-- 0.37926717407584215\n",
      "Michael Phelps <-- 0.37364748191178737\n",
      "California Gold Rush <-- 0.3697818909541954\n",
      "Silver Medal of Military Valor <-- 0.36901015089165184\n",
      "Ian Thorpe <-- 0.3569806598738771\n",
      "Bronze Medal of Military Valor <-- 0.353830748776972\n",
      "\n",
      "\n",
      "Search in raw vectors and full dict\n",
      "Gold (color) <-- 0.5248651713057553\n",
      "Gold Medal of Military Valor <-- 0.420084025208403\n",
      "Michael Phelps <-- 0.40646597071601576\n",
      "Gold rush <-- 0.40510652969003286\n",
      "Tag team <-- 0.40413633236470936\n",
      "Medal <-- 0.39951110187474476\n",
      "T-Mobile Team <-- 0.39794366937164216\n",
      "Silver Medal of Military Valor <-- 0.3899033011365326\n",
      "Continental circuits <-- 0.38436670702116926\n",
      "Bronze Medal of Military Valor <-- 0.38105117766515306\n",
      "\n",
      "\n",
      "Search in IDF vectors and full dict\n",
      "Gold (color) <-- 0.5408753600700695\n",
      "Medal <-- 0.4704824091851753\n",
      "Gold Medal of Military Valor <-- 0.3796707301524549\n",
      "Gold rush <-- 0.3786795525492929\n",
      "Gold <-- 0.3663582800388618\n",
      "Michael Phelps <-- 0.36425845535042023\n",
      "Silver Medal of Military Valor <-- 0.3574378124142958\n",
      "California Gold Rush <-- 0.3480860612209819\n",
      "Bronze Medal of Military Valor <-- 0.34373236255556533\n",
      "Ian Thorpe <-- 0.3248474582717691\n"
     ]
    }
   ],
   "source": [
    "k = 10\n",
    "question = \"gold medal team\"\n",
    "print (\"Search in raw vectors and small dict\")\n",
    "search (question, k, dictionary, raw_vectors, filepaths)\n",
    "print ()\n",
    "print ()\n",
    "print (\"Search in IDF vectors and small dict\")\n",
    "search (question, k, dictionary, IDF_vectors, filepaths)\n",
    "print ()\n",
    "print ()\n",
    "print (\"Search in raw vectors and full dict\")\n",
    "search (question, k, dictionary_full, raw_vectors_full, filepaths_full)\n",
    "print ()\n",
    "print ()\n",
    "print (\"Search in IDF vectors and full dict\")\n",
    "search (question, k, dictionary_full, IDF_vectors_full, filepaths_full)"
   ]
  },
  {
   "cell_type": "markdown",
   "metadata": {},
   "source": [
    "Zastosowanie IDF \"spłaszcza\" wyniki. Możemy zauważyć lekkie wyrównanie wartości słów w zapytaniu."
   ]
  },
  {
   "cell_type": "markdown",
   "metadata": {},
   "source": [
    "Następnie przeprowadziłem test sprawdzający wpływ redukcji szumu na wyniki wyszukiwania. Wykorzystałem wektory z IDF. Dzięki temu zmniejszamy wpływ popularnych słów i zwiększamy zakres rezultatów. Bez IDF wpisanie popularnego słowa skupia rezultaty na tym jednym słowie co ma negatywny efekt bo dla szukającego każde słowo ma równą wartość. Z tego powodu bardzo ważne jest wymnożenie przez współczynnik IDF."
   ]
  },
  {
   "cell_type": "code",
   "execution_count": 25,
   "metadata": {
    "scrolled": false
   },
   "outputs": [
    {
     "name": "stdout",
     "output_type": "stream",
     "text": [
      "Reduce noise: k = 10\n",
      "Venomous snake <-- 0.04885289255874425\n",
      "Hydrology <-- 0.048851228831169324\n",
      "Tastebud <-- 0.048850243969164264\n",
      "Devi <-- 0.04884973537984724\n",
      "Longhorn beetle <-- 0.04884967482188032\n",
      "Impurity <-- 0.04884942950826289\n",
      "Chrysalis <-- 0.04884929431786074\n",
      "Tyche <-- 0.04884911464394741\n",
      "Fortuna (mythology) <-- 0.04884879694925722\n",
      "Beak <-- 0.048848627696527855\n",
      "\n",
      "\n",
      "Reduce noise: k = 40\n",
      "Animal husbandry <-- 0.10531277514679178\n",
      "Zoosexuality <-- 0.1052535210416637\n",
      "Protostome <-- 0.10496411483281219\n",
      "Stud (animal) <-- 0.10460048248420335\n",
      "Prototheria <-- 0.10390635257407003\n",
      "Zookeeper <-- 0.10362537143704988\n",
      "Bilateria <-- 0.103361978955829\n",
      "Veterinarian <-- 0.10328739647189193\n",
      "Burrow (disambiguation) <-- 0.10246353922609132\n",
      "Bullock <-- 0.10246350155957291\n",
      "\n",
      "\n",
      "Reduce noise: k = 80\n",
      "Protostome <-- 0.31637279405229873\n",
      "Stud (animal) <-- 0.31589416542359466\n",
      "Prototheria <-- 0.3157547129182762\n",
      "Boar <-- 0.3144266973513438\n",
      "Carnivora <-- 0.31309642173177293\n",
      "Zoosexuality <-- 0.3124340072470718\n",
      "Omnivore <-- 0.3123440953734659\n",
      "Predator <-- 0.31208469358074004\n",
      "Panther <-- 0.31199708929529846\n",
      "Animal husbandry <-- 0.3119592335246813\n",
      "\n",
      "\n",
      "Reduce noise: k = 110\n",
      "Stud (animal) <-- 0.48760944534292117\n",
      "Animal husbandry <-- 0.48650165463095596\n",
      "Prototheria <-- 0.48572660878591345\n",
      "Bilateria <-- 0.48520168037394945\n",
      "Protostome <-- 0.48405416868216106\n",
      "Zookeeper <-- 0.4824546327741224\n",
      "Zoosexuality <-- 0.4814580539517725\n",
      "Burrow (disambiguation) <-- 0.4811377308450233\n",
      "Captivity (animal) <-- 0.4809207095901756\n",
      "Scent marks <-- 0.4798354720036195\n",
      "\n",
      "\n",
      "Reduce noise: k = 130\n",
      "Stud (animal) <-- 0.5786828165661707\n",
      "Animal husbandry <-- 0.5785516370964471\n",
      "Bilateria <-- 0.5773608278745508\n",
      "Captivity (animal) <-- 0.5733406504599345\n",
      "Prototheria <-- 0.5731452267171895\n",
      "Zookeeper <-- 0.5729500200410913\n",
      "Protostome <-- 0.5710841666029891\n",
      "Bullock <-- 0.5696778071222934\n",
      "Zoosexuality <-- 0.5686930527859863\n",
      "Scent marks <-- 0.5682771872095718\n",
      "\n",
      "\n",
      "Reduce noise: k = 150\n",
      "Animal husbandry <-- 0.6042083389106307\n",
      "Bilateria <-- 0.6024636860233475\n",
      "Stud (animal) <-- 0.6016680761172262\n",
      "Zookeeper <-- 0.5966928062824742\n",
      "Protostome <-- 0.5950404601986122\n",
      "Captivity (animal) <-- 0.5940924187656674\n",
      "Bullock <-- 0.5928700290279352\n",
      "Prototheria <-- 0.5926436728816519\n",
      "Scent marks <-- 0.5915270813684589\n",
      "Benjamin (Animal Farm) <-- 0.591277088968831\n",
      "\n",
      "\n",
      "Reduce noise: k = 170\n",
      "Animal husbandry <-- 0.6164698830212582\n",
      "Bilateria <-- 0.6144421058774505\n",
      "Stud (animal) <-- 0.6125243971461798\n",
      "Zookeeper <-- 0.6085690972835444\n",
      "Protostome <-- 0.6064315890355796\n",
      "Captivity (animal) <-- 0.604058300757347\n",
      "Prototheria <-- 0.6032003319439581\n",
      "Bullock <-- 0.601442134580057\n",
      "Scent marks <-- 0.6001234275910702\n",
      "Benjamin (Animal Farm) <-- 0.5995993489526159\n",
      "\n",
      "\n",
      "Reduce noise: k = 200\n",
      "Animal husbandry <-- 0.6266404701289566\n",
      "Bilateria <-- 0.6251639363932585\n",
      "Zookeeper <-- 0.6188645931390475\n",
      "Protostome <-- 0.6162408280620292\n",
      "Stud (animal) <-- 0.6156774948330173\n",
      "Captivity (animal) <-- 0.6131279604354685\n",
      "Prototheria <-- 0.612270723250443\n",
      "Bullock <-- 0.6119908224863805\n",
      "Benjamin (Animal Farm) <-- 0.6059738810862895\n",
      "Scent marks <-- 0.6031937908740759\n",
      "\n",
      "\n",
      "Reduce noise: k = 230\n",
      "Bilateria <-- 0.6335668395324182\n",
      "Animal husbandry <-- 0.6323664429129003\n",
      "Zookeeper <-- 0.6261891146443959\n",
      "Captivity (animal) <-- 0.6199556304731779\n",
      "Protostome <-- 0.6180899886997689\n",
      "Bullock <-- 0.61779554249321\n",
      "Prototheria <-- 0.6175266155695097\n",
      "Benjamin (Animal Farm) <-- 0.6089946019943028\n",
      "Stud (animal) <-- 0.6077166362807566\n",
      "Subsociality <-- 0.602489885670573\n",
      "\n",
      "\n",
      "Reduce noise: k = 260\n",
      "Bilateria <-- 0.6442833437159221\n",
      "Animal husbandry <-- 0.6431908750106996\n",
      "Zookeeper <-- 0.6347928460977834\n",
      "Captivity (animal) <-- 0.626815281271785\n",
      "Bullock <-- 0.6257788554064796\n",
      "Prototheria <-- 0.6231991859908829\n",
      "Protostome <-- 0.6192060188176393\n",
      "Benjamin (Animal Farm) <-- 0.6168367837890559\n",
      "Stud (animal) <-- 0.6152315719791995\n",
      "Subsociality <-- 0.6103514559467934\n",
      "\n",
      "\n",
      "Reduce noise: k = 300\n",
      "Animal husbandry <-- 0.6541231839181413\n",
      "Bilateria <-- 0.6519885764752021\n",
      "Zookeeper <-- 0.6454570896127599\n",
      "Captivity (animal) <-- 0.6349734823971817\n",
      "Prototheria <-- 0.631596099775891\n",
      "Bullock <-- 0.6310036735784624\n",
      "Protostome <-- 0.630173439494742\n",
      "Stud (animal) <-- 0.6229406310754884\n",
      "Subsociality <-- 0.6197069400938109\n",
      "Benjamin (Animal Farm) <-- 0.6193432677835605\n",
      "\n",
      "\n"
     ]
    }
   ],
   "source": [
    "k = 10\n",
    "question = \"animals in Africa\"\n",
    "for t in [10, 40, 80, 110, 130, 150, 170, 200, 230, 260, 300]:\n",
    "    new_arr = reduce_noise (IDF_vectors, t, len(dictionary))\n",
    "    print (\"Reduce noise: k =\", t)\n",
    "    search (question, k, dictionary, new_arr, filepaths)\n",
    "    print ()\n",
    "    print ()\n",
    "    del (new_arr)"
   ]
  },
  {
   "cell_type": "markdown",
   "metadata": {},
   "source": [
    "Obiektywnie patrząc najlepsze wyniki są dla k = 130. Dla mniejszych k pojawiają się takie absurdalne wyniki jak \"Zoosexuality\", które na pewno nie jest oczekiwane (za mało danych). Dla wiekszego k pojawia się szum i wzrost np takiego wyszukania jak \"zookeeper\"."
   ]
  },
  {
   "cell_type": "code",
   "execution_count": 26,
   "metadata": {
    "scrolled": false
   },
   "outputs": [
    {
     "name": "stdout",
     "output_type": "stream",
     "text": [
      "Reduce noise: k = 10\n",
      "Dardanelles <-- 0.01607328544464129\n",
      "Baekdu Mountain <-- 0.016065392487374423\n",
      "Seabed <-- 0.016056238708890995\n",
      "Zugspitze <-- 0.016046790999121856\n",
      "Nathula <-- 0.01603889229817405\n",
      "Rain shadow <-- 0.016037160600022065\n",
      "Haldighati Pass <-- 0.016029782229940465\n",
      "Karakoram Pass <-- 0.016028521319517007\n",
      "Iran-Pakistan barrier <-- 0.016027476497732243\n",
      "Gondogoro Pass <-- 0.016027268872470253\n",
      "\n",
      "\n",
      "Reduce noise: k = 40\n",
      "Fraser's Dolphin <-- 0.07215219063332802\n",
      "Seabed <-- 0.07176902818131639\n",
      "Caribbean Sea <-- 0.0716213701536576\n",
      "Striped Dolphin <-- 0.07037655252774855\n",
      "Ocean <-- 0.07037585597394962\n",
      "Rough-toothed Dolphin <-- 0.07033457442856954\n",
      "Wind farm <-- 0.06976057972408543\n",
      "Pantropical Spotted Dolphin <-- 0.06970676872932251\n",
      "Yucatán Channel <-- 0.06957372020613917\n",
      "Strait of Magellan <-- 0.06925947438556646\n",
      "\n",
      "\n",
      "Reduce noise: k = 80\n",
      "Seabed <-- 0.09249588021411796\n",
      "Ocean <-- 0.09128903280314832\n",
      "Fraser's Dolphin <-- 0.08930861971020618\n",
      "Caribbean Sea <-- 0.08536231666131719\n",
      "Pacific Ocean <-- 0.08511866583044807\n",
      "Arctic Ocean <-- 0.08401446358082434\n",
      "World Ocean <-- 0.08314298044205322\n",
      "Ring of Fire <-- 0.08246677970834937\n",
      "Sea lion <-- 0.08244845865047148\n",
      "Geography of the Dominican Republic <-- 0.08086899039411807\n",
      "\n",
      "\n",
      "Reduce noise: k = 110\n",
      "Ocean <-- 0.12833678066263934\n",
      "Seabed <-- 0.12790866809267645\n",
      "Fraser's Dolphin <-- 0.1231186882814681\n",
      "Arctic Ocean <-- 0.11960753310065221\n",
      "Pacific Ocean <-- 0.11769498315145777\n",
      "World Ocean <-- 0.11722306303513556\n",
      "Caribbean Sea <-- 0.11662691076270681\n",
      "Sea lion <-- 0.11630193773223126\n",
      "Landlocked <-- 0.11568735632082684\n",
      "Atlantic Ocean <-- 0.114268305276415\n",
      "\n",
      "\n",
      "Reduce noise: k = 130\n",
      "Ocean <-- 0.19393764177797673\n",
      "Fraser's Dolphin <-- 0.18902135093566594\n",
      "Seabed <-- 0.18585665336451115\n",
      "World Ocean <-- 0.18319585193645266\n",
      "Sea lion <-- 0.18134306561208371\n",
      "Caribbean Sea <-- 0.18013022752606606\n",
      "Landlocked <-- 0.1799519381686811\n",
      "Arctic Ocean <-- 0.17930613257211642\n",
      "Atlantic Ocean <-- 0.17592353703857083\n",
      "Adriatic Sea <-- 0.17521631696518605\n",
      "\n",
      "\n",
      "Reduce noise: k = 150\n",
      "Ocean <-- 0.231500960822772\n",
      "Fraser's Dolphin <-- 0.2259736399037522\n",
      "World Ocean <-- 0.22309441030921323\n",
      "Seabed <-- 0.22083444969750674\n",
      "Arctic Ocean <-- 0.21704528442962534\n",
      "Landlocked <-- 0.2154406337500525\n",
      "Sea lion <-- 0.21431284107461618\n",
      "Pacific Ocean <-- 0.21134561815759614\n",
      "Atlantic Ocean <-- 0.21027889643264017\n",
      "Caribbean Sea <-- 0.2083760799010352\n",
      "\n",
      "\n",
      "Reduce noise: k = 170\n",
      "Ocean <-- 0.24509904470369706\n",
      "World Ocean <-- 0.23728339189251987\n",
      "Fraser's Dolphin <-- 0.23611613721546584\n",
      "Seabed <-- 0.23314039743661552\n",
      "Arctic Ocean <-- 0.23053990583710068\n",
      "Landlocked <-- 0.22357857554239213\n",
      "Pacific Ocean <-- 0.2225297637914061\n",
      "Atlantic Ocean <-- 0.2193840631915572\n",
      "Southern Ocean <-- 0.21701375547942947\n",
      "Indian Ocean <-- 0.2167249302702536\n",
      "\n",
      "\n",
      "Reduce noise: k = 200\n",
      "Ocean <-- 0.27255334513210744\n",
      "World Ocean <-- 0.26564315309366116\n",
      "Fraser's Dolphin <-- 0.26014577484879625\n",
      "Arctic Ocean <-- 0.2572784776343732\n",
      "Seabed <-- 0.2532080073278298\n",
      "Pacific Ocean <-- 0.24981662085807776\n",
      "Southern Ocean <-- 0.24347542709870773\n",
      "Indian Ocean <-- 0.23748377282708777\n",
      "Strait of Magellan <-- 0.23685063647056112\n",
      "Atlantic Ocean <-- 0.23605345170382205\n",
      "\n",
      "\n",
      "Reduce noise: k = 230\n",
      "Ocean <-- 0.33497261736339967\n",
      "World Ocean <-- 0.32700025501115687\n",
      "Fraser's Dolphin <-- 0.3209021840323131\n",
      "Arctic Ocean <-- 0.3207253850637171\n",
      "Pacific Ocean <-- 0.30592352240507503\n",
      "Southern Ocean <-- 0.30471919560727584\n",
      "Seabed <-- 0.3041282176126768\n",
      "Indian Ocean <-- 0.2924785824177253\n",
      "Strait of Magellan <-- 0.29175077493314133\n",
      "Oceanic crust <-- 0.28765168247626527\n",
      "\n",
      "\n",
      "Reduce noise: k = 260\n",
      "Ocean <-- 0.4307159018656735\n",
      "World Ocean <-- 0.42328354186877665\n",
      "Arctic Ocean <-- 0.41771439772984764\n",
      "Fraser's Dolphin <-- 0.4151385383185062\n",
      "Southern Ocean <-- 0.40114639589177004\n",
      "Seabed <-- 0.3956873397181857\n",
      "Pacific Ocean <-- 0.3934673878331895\n",
      "Oceanic crust <-- 0.38719308784541007\n",
      "Indian Ocean <-- 0.3817913121762342\n",
      "Strait of Magellan <-- 0.37991109966249476\n",
      "\n",
      "\n",
      "Reduce noise: k = 300\n",
      "Ocean <-- 0.4706302121021614\n",
      "World Ocean <-- 0.46252250611217444\n",
      "Arctic Ocean <-- 0.4562736097348017\n",
      "Fraser's Dolphin <-- 0.4534118639173877\n",
      "Southern Ocean <-- 0.43914697910923506\n",
      "Seabed <-- 0.43556962762987916\n",
      "Pacific Ocean <-- 0.42641427767234413\n",
      "Oceanic crust <-- 0.4165878097125356\n",
      "Strait of Magellan <-- 0.4152857136316748\n",
      "Estuary <-- 0.4152043111826035\n",
      "\n",
      "\n"
     ]
    }
   ],
   "source": [
    "k = 10\n",
    "question = \"the deepest oceanic trench\"\n",
    "for t in [10, 40, 80, 110, 130, 150, 170, 200, 230, 260, 300]:\n",
    "    new_arr = reduce_noise (IDF_vectors, t, len(dictionary))\n",
    "    print (\"Reduce noise: k =\", t)\n",
    "    search (question, k, dictionary, new_arr, filepaths)\n",
    "    print ()\n",
    "    print ()\n",
    "    del (new_arr)"
   ]
  },
  {
   "cell_type": "markdown",
   "metadata": {},
   "source": [
    "Po wpisaniu prostego zapytania opisującego poszukiwane słowo nie udaje się znaleźć tego co oczekiwać powinniśmy - \"rów Mariański\". Najciekawsze resultaty są dla k = 110. Straciliśmy ten prosty rezultat ale otrzymaliśmy ciekawe wyniki związane z rowami oceanicznymi."
   ]
  },
  {
   "cell_type": "code",
   "execution_count": 27,
   "metadata": {
    "scrolled": false
   },
   "outputs": [
    {
     "name": "stdout",
     "output_type": "stream",
     "text": [
      "Reduce noise: k = 10\n",
      "Mensa <-- 0.07609888051642784\n",
      "Society of Jesus <-- 0.07609792514740712\n",
      "Meng Tian <-- 0.07609763359992466\n",
      "Analects <-- 0.07609668592984219\n",
      "Neurosurgery <-- 0.07609521671489429\n",
      "Reforesting <-- 0.07609441160223697\n",
      "No religion <-- 0.07609440527947367\n",
      "Evergreen <-- 0.07609426719114243\n",
      "Mu'izzi <-- 0.07609403968689143\n",
      "Copt <-- 0.07609377686142903\n",
      "\n",
      "\n",
      "Reduce noise: k = 40\n",
      "King <-- 0.12698621736349713\n",
      "Dictator <-- 0.12634473518529923\n",
      "Queen <-- 0.12632746203313258\n",
      "Third Servile War <-- 0.1263251790282206\n",
      "Einsatzgruppen <-- 0.12613786352708078\n",
      "Battle <-- 0.1261226114733066\n",
      "War of the two brothers <-- 0.12610204027742103\n",
      "King of Arms <-- 0.12607790509428843\n",
      "Carthage <-- 0.12597430870771778\n",
      "War crime <-- 0.12589452022389752\n",
      "\n",
      "\n",
      "Reduce noise: k = 80\n",
      "War of the two brothers <-- 0.30913625015165386\n",
      "Colt M1911 <-- 0.3052486584972621\n",
      "Prisoner of war <-- 0.30523399865507284\n",
      "War crime <-- 0.3034478406809412\n",
      "Second Punic War <-- 0.3028827680720671\n",
      "Crimean War <-- 0.3021809501448668\n",
      "Blitzkrieg <-- 0.29807139357162704\n",
      "Theatre (warfare) <-- 0.29737166104460666\n",
      "Einsatzgruppen <-- 0.29652101992809404\n",
      "Ceasefire <-- 0.2952550602019702\n",
      "\n",
      "\n",
      "Reduce noise: k = 110\n",
      "War of the two brothers <-- 0.38896517066668995\n",
      "Prisoner of war <-- 0.3837062730069969\n",
      "Second Punic War <-- 0.38141770823826376\n",
      "War crime <-- 0.38071496957893947\n",
      "Colt M1911 <-- 0.380615468406051\n",
      "Crimean War <-- 0.3788456135991417\n",
      "Theatre (warfare) <-- 0.37653827050284383\n",
      "Mobile Army Surgical Hospital <-- 0.37164870025573105\n",
      "Carl von Clausewitz <-- 0.37127961172314333\n",
      "Carthage <-- 0.3686136511173998\n",
      "\n",
      "\n",
      "Reduce noise: k = 130\n",
      "War of the two brothers <-- 0.3971521826554993\n",
      "Crimean War <-- 0.38954482772799515\n",
      "Second Punic War <-- 0.38936833552713085\n",
      "Colt M1911 <-- 0.38924360557123877\n",
      "War crime <-- 0.38721430216073544\n",
      "Prisoner of war <-- 0.386468821810997\n",
      "Theatre (warfare) <-- 0.3808221656608373\n",
      "Ceasefire <-- 0.3801484843534417\n",
      "Mobile Army Surgical Hospital <-- 0.3784185270769202\n",
      "Carl von Clausewitz <-- 0.37822985083255006\n",
      "\n",
      "\n",
      "Reduce noise: k = 150\n",
      "War of the two brothers <-- 0.43602034700925\n",
      "Second Punic War <-- 0.42873663933240785\n",
      "Crimean War <-- 0.4260384813830645\n",
      "War crime <-- 0.4230293399925555\n",
      "Colt M1911 <-- 0.41758137455761907\n",
      "Theatre (warfare) <-- 0.417241498627599\n",
      "Carl von Clausewitz <-- 0.4147484963379892\n",
      "Ceasefire <-- 0.4140663332127188\n",
      "Prisoner of war <-- 0.41249031871864955\n",
      "Mobile Army Surgical Hospital <-- 0.4116098635984193\n",
      "\n",
      "\n",
      "Reduce noise: k = 170\n",
      "War of the two brothers <-- 0.44318799882676757\n",
      "Second Punic War <-- 0.4359385483616376\n",
      "Crimean War <-- 0.4319099699604447\n",
      "War crime <-- 0.42884554314755463\n",
      "Theatre (warfare) <-- 0.42572980378312053\n",
      "Carl von Clausewitz <-- 0.4241694747103798\n",
      "Colt M1911 <-- 0.4218531549586229\n",
      "Ceasefire <-- 0.4158801299054832\n",
      "Prisoner of war <-- 0.4150939163295184\n",
      "Role of United States in the Vietnam War <-- 0.4128126836340477\n",
      "\n",
      "\n",
      "Reduce noise: k = 200\n",
      "War of the two brothers <-- 0.4590065367780313\n",
      "War crime <-- 0.44820155453260385\n",
      "Second Punic War <-- 0.44591848854666516\n",
      "Crimean War <-- 0.445266554123112\n",
      "Carl von Clausewitz <-- 0.4439049646135633\n",
      "Theatre (warfare) <-- 0.44305065077344274\n",
      "Role of United States in the Vietnam War <-- 0.4335270597585727\n",
      "Colt M1911 <-- 0.43264411050620977\n",
      "Ceasefire <-- 0.4293755477923761\n",
      "Eighty Years' War <-- 0.4283957571498153\n",
      "\n",
      "\n",
      "Reduce noise: k = 230\n",
      "War of the two brothers <-- 0.4638293859635818\n",
      "War crime <-- 0.4532069491216092\n",
      "Carl von Clausewitz <-- 0.45023720552073143\n",
      "Second Punic War <-- 0.4492815796773806\n",
      "Crimean War <-- 0.44900757424922655\n",
      "Theatre (warfare) <-- 0.4482442751924335\n",
      "Role of United States in the Vietnam War <-- 0.43714111247413845\n",
      "Colt M1911 <-- 0.43632101458930267\n",
      "Mobile Army Surgical Hospital <-- 0.4298506951650288\n",
      "Eighty Years' War <-- 0.4290750729853593\n",
      "\n",
      "\n",
      "Reduce noise: k = 260\n",
      "War of the two brothers <-- 0.46399634700641\n",
      "Carl von Clausewitz <-- 0.4586808998158297\n",
      "Crimean War <-- 0.45648264685873474\n",
      "War crime <-- 0.45502825346265324\n",
      "Theatre (warfare) <-- 0.4541709692747908\n",
      "Role of United States in the Vietnam War <-- 0.4439094933284641\n",
      "Second Punic War <-- 0.4408958550726656\n",
      "Colt M1911 <-- 0.4312933854739798\n",
      "Mobile Army Surgical Hospital <-- 0.42844403252395846\n",
      "Punic Wars <-- 0.42659489947159235\n",
      "\n",
      "\n",
      "Reduce noise: k = 300\n",
      "Carl von Clausewitz <-- 0.4609249444607981\n",
      "Crimean War <-- 0.45844312144643345\n",
      "Theatre (warfare) <-- 0.4540446328339973\n",
      "War of the two brothers <-- 0.45253181913869767\n",
      "War crime <-- 0.44990627715845205\n",
      "Role of United States in the Vietnam War <-- 0.4465216840019033\n",
      "Mobile Army Surgical Hospital <-- 0.4273134766869312\n",
      "Punic Wars <-- 0.42386857037567416\n",
      "Second Punic War <-- 0.4208902335240802\n",
      "Colt M1911 <-- 0.4197057939807673\n",
      "\n",
      "\n"
     ]
    }
   ],
   "source": [
    "k = 10\n",
    "question = \"war with a lot of blood\"\n",
    "for t in [10, 40, 80, 110, 130, 150, 170, 200, 230, 260, 300]:\n",
    "    new_arr = reduce_noise (IDF_vectors, t, len(dictionary))\n",
    "    print (\"Reduce noise: k =\", t)\n",
    "    search (question, k, dictionary, new_arr, filepaths)\n",
    "    print ()\n",
    "    print ()\n",
    "    del (new_arr)"
   ]
  },
  {
   "cell_type": "markdown",
   "metadata": {},
   "source": [
    "W tym wypadku oceniam k = 80 jako najbardziej optymalne. Powyżej otrzymujemy nazwiska, więc zbyt duży szum. Poniżej tracimy znaczenia słów i otrzymujemy mniej sensowne wyniki."
   ]
  },
  {
   "cell_type": "code",
   "execution_count": 28,
   "metadata": {
    "scrolled": false
   },
   "outputs": [
    {
     "name": "stdout",
     "output_type": "stream",
     "text": [
      "Reduce noise: k = 10\n",
      "F.C. Barcelona <-- 0.22022020847940077\n",
      "Serie B 2003-04 <-- 0.2202129245358332\n",
      "Serie A 2004-05 <-- 0.22021078852237538\n",
      "ArenaBowl <-- 0.22020457702720161\n",
      "Serie B 2002-03 <-- 0.22020362290495776\n",
      "List of English football teams 2005/06 season <-- 0.22020317025119798\n",
      "Serie B 1988-89 <-- 0.22020186420631052\n",
      "Valencia C.F. <-- 0.22020174597791786\n",
      "Serie B 2001-02 <-- 0.22020104375544547\n",
      "Serie B 1962-63 <-- 0.22020026221473316\n",
      "\n",
      "\n",
      "Reduce noise: k = 40\n",
      "Continental circuits <-- 0.24221430752209602\n",
      "Harlem Globetrotters <-- 0.2397853401656092\n",
      "Italian Football Championship 1923-24 <-- 0.2391117806614933\n",
      "Italian Football Championship 1922-23 <-- 0.23898949837858474\n",
      "Italian Football Championship 1908 <-- 0.23870037971077587\n",
      "Tag team <-- 0.23858722381225778\n",
      "Italian Football Championship 1924-25 <-- 0.23828251817117851\n",
      "Colombian Professional Football 2003 <-- 0.23740525802933615\n",
      "Colombian Professional Football 2002 <-- 0.23728990623779403\n",
      "Colombian Professional Football 2004 <-- 0.23715275221619778\n",
      "\n",
      "\n",
      "Reduce noise: k = 80\n",
      "Harlem Globetrotters <-- 0.2965870521713961\n",
      "Continental circuits <-- 0.2868393947269764\n",
      "Team Milram <-- 0.2719079773217796\n",
      "Handball <-- 0.2680165889752429\n",
      "Tag team <-- 0.2649585869263326\n",
      "Denver Nuggets <-- 0.2627668494192611\n",
      "Memphis Grizzlies <-- 0.2624564238321517\n",
      "Portland Trail Blazers <-- 0.2613185654606842\n",
      "Atlanta Hawks <-- 0.25922881972473955\n",
      "Cleveland Cavaliers <-- 0.2566219687703506\n",
      "\n",
      "\n",
      "Reduce noise: k = 110\n",
      "Harlem Globetrotters <-- 0.30236740090047814\n",
      "Continental circuits <-- 0.30013104350666564\n",
      "Team Milram <-- 0.28206141553827335\n",
      "Handball <-- 0.27864067906218204\n",
      "T-Mobile Team <-- 0.26393833428612545\n",
      "Team Gerolsteiner <-- 0.25651011329637996\n",
      "Throwback uniform <-- 0.2544829285258584\n",
      "Detroit Pistons <-- 0.25079755211175\n",
      "Denver Nuggets <-- 0.2498768311302028\n",
      "Trade (sports) <-- 0.24987120684814088\n",
      "\n",
      "\n",
      "Reduce noise: k = 130\n",
      "Harlem Globetrotters <-- 0.3205632500458943\n",
      "Continental circuits <-- 0.30849580831481355\n",
      "Team Milram <-- 0.2981173804093922\n",
      "Handball <-- 0.29076641234692147\n",
      "Throwback uniform <-- 0.2667782264089182\n",
      "Detroit Pistons <-- 0.26619534906775355\n",
      "T-Mobile Team <-- 0.2647010975996296\n",
      "Team Gerolsteiner <-- 0.26279930017090786\n",
      "Portland Trail Blazers <-- 0.26032882290381876\n",
      "Denver Nuggets <-- 0.25994791628550235\n",
      "\n",
      "\n",
      "Reduce noise: k = 150\n",
      "Harlem Globetrotters <-- 0.3450731093924693\n",
      "Continental circuits <-- 0.3329564499958484\n",
      "Team Milram <-- 0.32650032815416946\n",
      "Handball <-- 0.30493759998928055\n",
      "Throwback uniform <-- 0.2920698550178613\n",
      "Detroit Pistons <-- 0.2862818456485463\n",
      "Team Gerolsteiner <-- 0.2840044595572659\n",
      "T-Mobile Team <-- 0.28061489956740543\n",
      "Denver Nuggets <-- 0.2780830650791374\n",
      "Throw-in <-- 0.27779017913583093\n",
      "\n",
      "\n",
      "Reduce noise: k = 170\n",
      "Harlem Globetrotters <-- 0.35884212364830664\n",
      "Continental circuits <-- 0.34303735976931665\n",
      "Team Milram <-- 0.33066799585417367\n",
      "Handball <-- 0.3169326812543499\n",
      "Detroit Pistons <-- 0.30238692244849313\n",
      "Throwback uniform <-- 0.3001180506837877\n",
      "Throw-in <-- 0.2964056055144613\n",
      "Denver Nuggets <-- 0.2895193797223315\n",
      "Team Gerolsteiner <-- 0.2848680051667198\n",
      "Portland Trail Blazers <-- 0.2827558600019544\n",
      "\n",
      "\n",
      "Reduce noise: k = 200\n",
      "Harlem Globetrotters <-- 0.36230274815102864\n",
      "Continental circuits <-- 0.34965381796320605\n",
      "Team Milram <-- 0.33772600928692076\n",
      "Handball <-- 0.31364134220230844\n",
      "Detroit Pistons <-- 0.30819800997965296\n",
      "Throw-in <-- 0.293563476060519\n",
      "T-Mobile Team <-- 0.2899232604889012\n",
      "Discovery Channel Pro Cycling Team <-- 0.28940638364509297\n",
      "Team Gerolsteiner <-- 0.2888228242687317\n",
      "Tag team <-- 0.2853212508755985\n",
      "\n",
      "\n",
      "Reduce noise: k = 230\n",
      "Harlem Globetrotters <-- 0.36900738809840755\n",
      "Continental circuits <-- 0.3596552030740662\n",
      "Team Milram <-- 0.35124364158712096\n",
      "Handball <-- 0.31677048476366454\n",
      "T-Mobile Team <-- 0.30050509660304886\n",
      "Detroit Pistons <-- 0.2990000802484707\n",
      "Team Gerolsteiner <-- 0.2989293528123972\n",
      "Discovery Channel Pro Cycling Team <-- 0.2974587487634003\n",
      "Tag team <-- 0.2972283176015775\n",
      "Pura Cup <-- 0.2961431917322196\n",
      "\n",
      "\n",
      "Reduce noise: k = 260\n",
      "Harlem Globetrotters <-- 0.38586614767233063\n",
      "Continental circuits <-- 0.3744181810750523\n",
      "Team Milram <-- 0.36878577741303853\n",
      "Handball <-- 0.32545695808615216\n",
      "Tag team <-- 0.31494839127536844\n",
      "Discovery Channel Pro Cycling Team <-- 0.31392654311553864\n",
      "T-Mobile Team <-- 0.3074912217185841\n",
      "Throw-in <-- 0.3059064752230374\n",
      "Team Gerolsteiner <-- 0.3041138224741739\n",
      "Detroit Pistons <-- 0.3037963339036841\n",
      "\n",
      "\n",
      "Reduce noise: k = 300\n",
      "Harlem Globetrotters <-- 0.4024487876858389\n",
      "Continental circuits <-- 0.39987977627911386\n",
      "Team Milram <-- 0.39169679102956\n",
      "Tag team <-- 0.3388577665158651\n",
      "Handball <-- 0.3363353209281045\n",
      "Discovery Channel Pro Cycling Team <-- 0.3349922402906953\n",
      "T-Mobile Team <-- 0.3312465547699768\n",
      "Team Gerolsteiner <-- 0.3212642283192002\n",
      "Detroit Pistons <-- 0.3168344450177514\n",
      "Themistocles Leftheris <-- 0.31665011309860763\n",
      "\n",
      "\n"
     ]
    }
   ],
   "source": [
    "k = 10\n",
    "question = \"gold medal team\"\n",
    "for t in [10, 40, 80, 110, 130, 150, 170, 200, 230, 260, 300]:\n",
    "    new_arr = reduce_noise (IDF_vectors, t, len(dictionary))\n",
    "    print (\"Reduce noise: k =\", t)\n",
    "    search (question, k, dictionary, new_arr, filepaths)\n",
    "    print ()\n",
    "    print ()\n",
    "    del (new_arr)"
   ]
  },
  {
   "cell_type": "markdown",
   "metadata": {},
   "source": [
    "Po analizie najlepsze wyniki oceniam dla k = 130. Otrzymujemy wtedy zbiór drużyn co oczekujemy."
   ]
  },
  {
   "cell_type": "markdown",
   "metadata": {},
   "source": [
    "Na podstawie powyższych testów zdecydowałem korzystać z IDF oraz korzystać ze 120 wartości własnych z SVD."
   ]
  },
  {
   "cell_type": "markdown",
   "metadata": {},
   "source": [
    "## Aplikacja"
   ]
  },
  {
   "cell_type": "markdown",
   "metadata": {},
   "source": [
    "Wyszukiwarka na starcie pozwala określić parametry wyszukiwania. Możemy zdecydować, czy chcemy korzystać z współczynnika IDF lub redukcji szumu poprzez SVD. Jeśli wybiezemy redukcję szumu należy podać ilość wartości własnych do wymnożenia. Dodatkowo możemy skorzystać z przycisku `DEFAULT` uruchamiającego wyszukiwarkę z IDFT i SWD z 130 wartościami własnymi. Dodatkowo możemy skorzystać z pełnego słownika, poprawia to rezultaty wyszukiwania, jednakże potrzebuje ok. 32GB RAMu aby zmieściła się macierz po policzeniu i wymnożeniu SVD. Opcję tą możemy śmiało wykorzystywać, jeśli nie zaznaczymy opcji SVD (opcja `full dict`). Po wybraniu parametrów odczytywane są słownik i macierz wektorów `bag_of_words`. Następnie zgodnie z wybranymi opcjami przetwarzana jest macierz i zapisywana jako lista słowników (jeśli nie wykorzystywaliśmy SVD) lub macierz numpy. Następne okienko pozwala nam wprowadzić zapytanie oraz określić oczekiwaną liczbę rezultatów. Po wyszukaniu pojawia się okienko przycisków pozwalających przejść do odczytu kolejnych artykułów wyszukanych metodami przedstawionymi wyżej. Artykuł pojawia się w pop-up. Artykuł możemy przewijać, aby móc przeczytać całą zawartość.\n",
    "\n",
    "Aplikacja została zbudowana z wykorzystaniem modułu `Kivy` i znajduje się w pliku `browser.py`. Do jej uruchomienia niezbędne jest wcześniejsze utworzenie słowników i macierzy wektorów i zapisanie ich do odpowiednich plików. Niezbędne komendy znajdują się poniżej. W aplikacji poza metodami związanymi czystko z GUI wykorzystano funkcje zaprezentowane w tym notebooku z możliwymi drobnymi zmaianmi dostosowującymi ich do środowiska w którym występują."
   ]
  },
  {
   "cell_type": "code",
   "execution_count": 29,
   "metadata": {},
   "outputs": [
    {
     "data": {
      "image/png": "[encoded data removed]",
      "text/plain": [
       "<IPython.core.display.Image object>"
      ]
     },
     "execution_count": 29,
     "metadata": {},
     "output_type": "execute_result"
    }
   ],
   "source": [
    "from IPython.display import Image\n",
    "Image(filename='1.png')"
   ]
  },
  {
   "cell_type": "code",
   "execution_count": 30,
   "metadata": {},
   "outputs": [
    {
     "data": {
      "image/png": "[encoded data removed]",
      "text/plain": [
       "<IPython.core.display.Image object>"
      ]
     },
     "execution_count": 30,
     "metadata": {},
     "output_type": "execute_result"
    }
   ],
   "source": [
    "Image(filename='2.png')"
   ]
  },
  {
   "cell_type": "code",
   "execution_count": 31,
   "metadata": {},
   "outputs": [
    {
     "data": {
      "image/png": "[encoded data removed]",
      "text/plain": [
       "<IPython.core.display.Image object>"
      ]
     },
     "execution_count": 31,
     "metadata": {},
     "output_type": "execute_result"
    }
   ],
   "source": [
    "Image(filename='3.png')"
   ]
  },
  {
   "cell_type": "code",
   "execution_count": 32,
   "metadata": {},
   "outputs": [],
   "source": [
    "read_wikipedia ()"
   ]
  },
  {
   "cell_type": "code",
   "execution_count": 33,
   "metadata": {},
   "outputs": [],
   "source": [
    "swords = stopwords.words('english')\n",
    "dictionary = dictionary_from_titles (swords)\n",
    "save_dictionary (dictionary)\n",
    "prepare_sites_raw(dictionary)"
   ]
  },
  {
   "cell_type": "code",
   "execution_count": 34,
   "metadata": {},
   "outputs": [],
   "source": [
    "dictionary_full = make_dictionary (swords)\n",
    "save_dictionary (dictionary_full, filepath='dict_full.txt')\n",
    "prepare_sites_raw(dictionary_full, filepath=\"data_full.txt\")"
   ]
  },
  {
   "cell_type": "markdown",
   "metadata": {},
   "source": [
    "## Ciekawe zapytania i wyniki wyszukiwania"
   ]
  },
  {
   "cell_type": "markdown",
   "metadata": {},
   "source": [
    "Poniżej przedstawiam kilka zapytań dla których znalazłem ciekawe rezultaty. Korzystam z IDF i SVD ze 130 wartościami własnymi. Zapytania charakteryzują się nie pytaniem wprost, lecz oczekując na rezultaty związane znaczeniowo z tymi słowami."
   ]
  },
  {
   "cell_type": "code",
   "execution_count": 35,
   "metadata": {},
   "outputs": [],
   "source": [
    "arr = reduce_noise (IDF_vectors, 120, len(dictionary))"
   ]
  },
  {
   "cell_type": "code",
   "execution_count": 36,
   "metadata": {},
   "outputs": [
    {
     "name": "stdout",
     "output_type": "stream",
     "text": [
      "Ziziphus mauritiana <-- 0.04201761998928754\n",
      "Cedrus deodara <-- 0.04108069521065928\n",
      "Fig <-- 0.04047658584167956\n",
      "Ziziphus <-- 0.04033118915520513\n",
      "Cloudberry <-- 0.04030790702365676\n",
      "Tundra <-- 0.04001132218236902\n",
      "Passionfruit <-- 0.03997876781709279\n",
      "Nelumbo <-- 0.03982158765856294\n",
      "Jambul <-- 0.039761033450416906\n",
      "Lily <-- 0.039413609882836986\n"
     ]
    }
   ],
   "source": [
    "k = 10\n",
    "question = \"sweet desert\"\n",
    "search (question, k, dictionary, arr, filepaths)"
   ]
  },
  {
   "cell_type": "code",
   "execution_count": 37,
   "metadata": {},
   "outputs": [
    {
     "name": "stdout",
     "output_type": "stream",
     "text": [
      "Device <-- 0.0675502694910761\n",
      "Mobile device <-- 0.06383558184609346\n",
      "FireWire <-- 0.06278340352530024\n",
      "Optical disc drive <-- 0.06251123258810404\n",
      "Peripheral equipment <-- 0.06168119331487674\n",
      "Telegram <-- 0.06082999006459618\n",
      "USB hub <-- 0.06040723717688443\n",
      "Tape drive <-- 0.06026445251124435\n",
      "SIMATIC <-- 0.060202444272123505\n",
      "USB flash drive <-- 0.0597380762233968\n"
     ]
    }
   ],
   "source": [
    "k = 10\n",
    "question = \"pretty device\"\n",
    "search (question, k, dictionary, arr, filepaths)"
   ]
  },
  {
   "cell_type": "code",
   "execution_count": 38,
   "metadata": {},
   "outputs": [
    {
     "name": "stdout",
     "output_type": "stream",
     "text": [
      "Tube sound <-- 0.13875544648230473\n",
      "Stereo <-- 0.130791825859955\n",
      "Heartbeat <-- 0.1155646763251147\n",
      "Sound <-- 0.11292552553698885\n",
      "Sound card <-- 0.11190055906781521\n",
      "Resonator <-- 0.11185876623532702\n",
      "Vibrating string <-- 0.11157494559618283\n",
      "Synthesizer <-- 0.11110477521155508\n",
      "Loudspeaker <-- 0.11082400109541456\n",
      "Empty string <-- 0.10886004185338781\n"
     ]
    }
   ],
   "source": [
    "k = 10\n",
    "question = \"device to hearing sound\"\n",
    "search (question, k, dictionary, arr, filepaths)"
   ]
  },
  {
   "cell_type": "code",
   "execution_count": 39,
   "metadata": {},
   "outputs": [
    {
     "name": "stdout",
     "output_type": "stream",
     "text": [
      "Halle Berry <-- 0.14321680797855624\n",
      "Geoffrey Rush <-- 0.14316272418392975\n",
      "Al Pacino <-- 0.1428055223830628\n",
      "Helen Hunt <-- 0.13964543112590697\n",
      "Laura Dern <-- 0.13935434126272284\n",
      "Joanne Woodward <-- 0.13923925111846316\n",
      "Adrien Brody <-- 0.1388190496448703\n",
      "Luise Rainer <-- 0.13845622865574644\n",
      "Candice Bergen <-- 0.13790145454714126\n",
      "Cher <-- 0.1376418446990615\n"
     ]
    }
   ],
   "source": [
    "k = 10\n",
    "question = \"the best athlete\"\n",
    "search (question, k, dictionary, arr, filepaths)"
   ]
  },
  {
   "cell_type": "code",
   "execution_count": 40,
   "metadata": {},
   "outputs": [
    {
     "name": "stdout",
     "output_type": "stream",
     "text": [
      "Long distance race <-- 0.09374866138194504\n",
      "Run (baseball) <-- 0.07955858846744056\n",
      "Running <-- 0.07782977373627001\n",
      "Earned run average <-- 0.07627218425013026\n",
      "Southampton 45 <-- 0.07411411849786625\n",
      "Drop shot <-- 0.07320585079405798\n",
      "Xebian <-- 0.07293956229486263\n",
      "M-Tram <-- 0.07260221109016715\n",
      "Home run <-- 0.07182095696407712\n",
      "Relay race <-- 0.0712128494230011\n"
     ]
    }
   ],
   "source": [
    "k = 10\n",
    "question = \"tired run\"\n",
    "search (question, k, dictionary, arr, filepaths)"
   ]
  },
  {
   "cell_type": "code",
   "execution_count": 41,
   "metadata": {},
   "outputs": [],
   "source": [
    "del(arr)"
   ]
  },
  {
   "cell_type": "markdown",
   "metadata": {},
   "source": [
    "Podsumowując zadanie zauważam pewne usprawnienia, które można by poczynić. Zwiększenie pamięci RAM, a co za tym idzie zwiększenie słownika zncząco poprawiło by jakość wyszukiwań. Można by również skorzystać z webcrowlera aby stworzyć ciekawszą bazę stron."
   ]
  }
 ],
 "metadata": {
  "kernelspec": {
   "display_name": "Python 3",
   "language": "python",
   "name": "python3"
  },
  "language_info": {
   "codemirror_mode": {
    "name": "ipython",
    "version": 3
   },
   "file_extension": ".py",
   "mimetype": "text/x-python",
   "name": "python",
   "nbconvert_exporter": "python",
   "pygments_lexer": "ipython3",
   "version": "3.8.5"
  }
 },
 "nbformat": 4,
 "nbformat_minor": 4
}
